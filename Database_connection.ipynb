{
 "cells": [
  {
   "cell_type": "code",
   "execution_count": 4,
   "id": "7a10c6bb-6945-44b6-9b73-724444a372d6",
   "metadata": {},
   "outputs": [],
   "source": [
    "import pandas as pd\n",
    "import seaborn as sns\n",
    "import random\n",
    "import matplotlib.pyplot as plt\n",
    "from scipy.stats import shapiro\n",
    "import requests\n",
    "from scipy.stats import ttest_ind"
   ]
  },
  {
   "cell_type": "code",
   "execution_count": 10,
   "id": "c60f3904-7695-47d0-ad44-5d5c365bd95b",
   "metadata": {},
   "outputs": [
    {
     "name": "stdout",
     "output_type": "stream",
     "text": [
      "Collecting psycopg2\n",
      "  Downloading psycopg2-2.9.6.tar.gz (383 kB)\n",
      "\u001b[2K     \u001b[90m━━━━━━━━━━━━━━━━━━━━━━━━━━━━━━━━━━━━━━━\u001b[0m \u001b[32m384.0/384.0 kB\u001b[0m \u001b[31m1.9 MB/s\u001b[0m eta \u001b[36m0:00:00\u001b[0ma \u001b[36m0:00:01\u001b[0m\n",
      "\u001b[?25h  Preparing metadata (setup.py) ... \u001b[?25ldone\n",
      "\u001b[?25hBuilding wheels for collected packages: psycopg2\n",
      "  Building wheel for psycopg2 (setup.py) ... \u001b[?25ldone\n",
      "\u001b[?25h  Created wheel for psycopg2: filename=psycopg2-2.9.6-cp310-cp310-macosx_10_9_x86_64.whl size=133859 sha256=37588d21c64bd85559919ffd1c1c91c04eb150d18cbabeb57e32d82126e47255\n",
      "  Stored in directory: /Users/ckz/Library/Caches/pip/wheels/2c/a9/a3/ce3040cb04477d73004ae61fa75abe9262d776c0892ddff41a\n",
      "Successfully built psycopg2\n",
      "Installing collected packages: psycopg2\n",
      "Successfully installed psycopg2-2.9.6\n",
      "Note: you may need to restart the kernel to use updated packages.\n"
     ]
    }
   ],
   "source": [
    "pip install psycopg2"
   ]
  },
  {
   "cell_type": "code",
   "execution_count": 11,
   "id": "53481884-c116-4f41-a0f4-bcf0654414e5",
   "metadata": {},
   "outputs": [],
   "source": [
    "import psycopg2"
   ]
  },
  {
   "cell_type": "code",
   "execution_count": 5,
   "id": "35399aac-a79e-4c0c-95fc-6d17a72332b3",
   "metadata": {},
   "outputs": [],
   "source": [
    "# Since we will be extracting the data from the tables multiple times, instead of writing the same code multiple times, I created a function.\n",
    "def query_table_to_csv(tablename, db_host, db_name, db_user, db_password, output_path, row_limit=None):\n",
    "    # create a connection object\n",
    "    conn = psycopg2.connect(\n",
    "        host=db_host,\n",
    "        database=db_name,\n",
    "        user=db_user,\n",
    "        password=db_password\n",
    "    )\n",
    "\n",
    "    # create a cursor object\n",
    "    cursor = conn.cursor()\n",
    "\n",
    "    \n",
    "    # execute a query to select rows from the specified table\n",
    "    query = f\"SELECT * FROM {tablename} TABLESAMPLE SYSTEM (10)\"\n",
    "    if row_limit:\n",
    "        query += f\" LIMIT {row_limit}\"\n",
    "    cursor.execute(query)\n",
    "\n",
    "    print(query)\n",
    "\n",
    "    # fetch the results\n",
    "    results = cursor.fetchall()\n",
    "\n",
    "    # create a DataFrame from the results\n",
    "    df = pd.DataFrame(results, columns=[desc[0] for desc in cursor.description])\n",
    "\n",
    "    # close the cursor and connection\n",
    "    cursor.close()\n",
    "    conn.close()\n",
    "\n",
    "    # save the DataFrame to a CSV file\n",
    "    df.to_csv(output_path, index=False)\n",
    "\n",
    "    # print a message to confirm success\n",
    "    print(f\"Results saved to {output_path}\")\n"
   ]
  },
  {
   "cell_type": "code",
   "execution_count": 6,
   "id": "f0426ec9-25de-4b94-a455-fddb0d2de917",
   "metadata": {},
   "outputs": [],
   "source": [
    "# set the database connection parameters\n",
    "db_host = \"lhl-data-bootcamp.crzjul5qln0e.ca-central-1.rds.amazonaws.com\"\n",
    "db_name = \"mid_term_project\"    \n",
    "db_user = \"lhl_student\"\n",
    "db_password = \"lhl_student\""
   ]
  },
  {
   "cell_type": "code",
   "execution_count": 13,
   "id": "b41412af-2a9d-40c6-8246-621367396383",
   "metadata": {},
   "outputs": [
    {
     "name": "stdout",
     "output_type": "stream",
     "text": [
      "SELECT * FROM flights TABLESAMPLE SYSTEM (10) LIMIT 10000000\n",
      "Results saved to /Users/ckz/Desktop/DATA_SCIENCE_BOOTCAMP/Midterm-project/flights.csv\n"
     ]
    }
   ],
   "source": [
    "# Importing Flights data\n",
    "query_table_to_csv(\n",
    "    tablename=\"flights\",\n",
    "    db_host=db_host,\n",
    "    db_name=db_name,\n",
    "    db_user=db_user,\n",
    "    db_password=db_password,\n",
    "    output_path=\"/Users/ckz/Desktop/DATA_SCIENCE_BOOTCAMP/Midterm-project/flights.csv\",\n",
    "    row_limit=10000000\n",
    ")\n",
    "\n",
    "\n",
    "\n",
    "\n",
    "#/Users/ckz/Desktop/DATA_SCIENCE_BOOTCAMP/Midterm-project"
   ]
  },
  {
   "cell_type": "code",
   "execution_count": null,
   "id": "12658853-23e2-4d9f-b4e0-dc8251c7492a",
   "metadata": {},
   "outputs": [],
   "source": []
  }
 ],
 "metadata": {
  "kernelspec": {
   "display_name": "Python 3 (ipykernel)",
   "language": "python",
   "name": "python3"
  },
  "language_info": {
   "codemirror_mode": {
    "name": "ipython",
    "version": 3
   },
   "file_extension": ".py",
   "mimetype": "text/x-python",
   "name": "python",
   "nbconvert_exporter": "python",
   "pygments_lexer": "ipython3",
   "version": "3.10.9"
  }
 },
 "nbformat": 4,
 "nbformat_minor": 5
}
